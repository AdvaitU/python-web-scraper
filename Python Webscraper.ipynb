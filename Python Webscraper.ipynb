{
 "cells": [
  {
   "cell_type": "markdown",
   "id": "e5a289de",
   "metadata": {},
   "source": [
    "#### Step 1\n",
    "\n",
    "Importing requests to request URLs. I will be looking at the Met Office UK's website for data on High Temperatures in major Indian cities for the entire week.\n",
    "This work is based on [Joe James' Python Web Scraping tutorial](https://www.youtube.com/watch?v=zD0FDYI5_rs)"
   ]
  },
  {
   "cell_type": "code",
   "execution_count": 16,
   "id": "46d61fd0",
   "metadata": {},
   "outputs": [
    {
     "name": "stdout",
     "output_type": "stream",
     "text": [
      "74029\n"
     ]
    }
   ],
   "source": [
    "import requests\n",
    "r = requests.get('https://www.metoffice.gov.uk/weather/world/india/list')\n",
    "print(len(r.text)) # Printing length to test"
   ]
  },
  {
   "cell_type": "markdown",
   "id": "ccf11f24",
   "metadata": {},
   "source": [
    "#### Step 2 \n",
    "\n",
    "Import Beautiful Soup and turn the HTML text into a bs4 object. I used the [Beautiful Soup Documentation here](https://beautiful-soup-4.readthedocs.io/en/latest/)"
   ]
  },
  {
   "cell_type": "code",
   "execution_count": 17,
   "id": "79cc047f",
   "metadata": {},
   "outputs": [
    {
     "name": "stdout",
     "output_type": "stream",
     "text": [
      "India forecast locations - Met Office\n"
     ]
    }
   ],
   "source": [
    "from bs4 import BeautifulSoup\n",
    "soup = BeautifulSoup(r.text)\n",
    "print(soup.title.string) # Printing the page title to test"
   ]
  },
  {
   "cell_type": "markdown",
   "id": "54db2368",
   "metadata": {},
   "source": [
    "Using the find_all method, the code finds all Links in the HTML with the tag 'a' and prints them out."
   ]
  },
  {
   "cell_type": "code",
   "execution_count": 18,
   "id": "438fbdfa",
   "metadata": {},
   "outputs": [
    {
     "name": "stdout",
     "output_type": "stream",
     "text": [
      "#content\n",
      "/\n",
      "/weather\n",
      "/research\n",
      "/services\n",
      "/about-us\n",
      "/\n",
      "/weather\n",
      "/\n",
      "/weather/warnings-and-advice\n",
      "/weather/warnings-and-advice/uk-warnings\n",
      "/weather/warnings-and-advice/uk-storm-centre/index\n",
      "/weather/warnings-and-advice/seasonal-advice\n",
      "/weather/maps-and-charts\n",
      "/weather/forecast/uk\n",
      "/weather/maps-and-charts/uk-weather-map\n",
      "/weather/maps-and-charts/cloud-cover-map\n",
      "/weather/maps-and-charts/precipitation-map\n",
      "/weather/maps-and-charts/rainfall-radar-forecast-map\n",
      "/weather/maps-and-charts/temperature-map\n",
      "/weather/maps-and-charts/wind-map\n",
      "/weather/maps-and-charts/wind-gusts-map\n",
      "/weather/maps-and-charts/surface-pressure\n",
      "/weather/world/list\n",
      "/weather/climate\n",
      "/weather/climate/climate-explained/index\n",
      "/weather/climate-change/what-is-climate-change\n",
      "/weather/climate-change/causes-of-climate-change\n",
      "/weather/climate-change/effects-of-climate-change\n",
      "/weather/climate-change/climate-change-questions\n",
      "/weather/climate/uk-climate\n",
      "/weather/climate/science\n",
      "/weather/climate-change/organisations-and-reports\n",
      "/weather/specialist-forecasts\n",
      "/weather/specialist-forecasts/coast-and-sea\n",
      "/weather/specialist-forecasts/mountain\n",
      "/weather/specialist-forecasts/space-weather\n",
      "/weather/learn-about\n",
      "/weather/learn-about/past-uk-weather-events\n",
      "/weather/learn-about/weather\n",
      "/weather/learn-about/how-forecasts-are-made\n",
      "/weather/learn-about/met-office-for-schools\n",
      "/research\n",
      "/research/approach/index\n",
      "/research/approach/overview\n",
      "/research/approach/how-met-office-science-is-reviewed\n",
      "/research/approach/collaboration\n",
      "/research/approach/modelling-systems\n",
      "/research/approach/monitoring\n",
      "/research/approach/our-research-staff/people\n",
      "/research/weather\n",
      "/research/weather/atmospheric-dispersion\n",
      "/research/weather/space-applications-and-nowcasting/index\n",
      "/research/weather/ensemble-forecasting\n",
      "/research/weather/observations-research\n",
      "/research/weather/ocean-forecasting\n",
      "/research/weather/research-to-operations\n",
      "/research/weather/satellite-and-surface-assimilation/index\n",
      "/research/weather/verification-impacts-and-post-processing\n",
      "/research/weather/weather-science-it\n",
      "/research/climate\n",
      "/research/climate/cryosphere-oceans\n",
      "/research/climate/climate-impacts\n",
      "/research/climate/climate-monitoring/index\n",
      "/research/climate/earth-system-science\n",
      "/research/climate/seasonal-to-decadal\n",
      "/research/climate/maps-and-data\n",
      "/research/climate/understanding-climate\n",
      "/research/applied\n",
      "/research/applied/aviation\n",
      "/research/applied/international\n",
      "/research/applied/climate-security\n",
      "/services/research-consulting/climate-service\n",
      "/research/applied/defence\n",
      "/research/applied/post-processing\n",
      "/research/applied/science-for-impacts-resilience-and-adaptation\n",
      "/research/applied/science-health-strategy\n",
      "/research/foundation\n",
      "/research/foundation/parametrizations\n",
      "/research/foundation/dynamics\n",
      "/research/foundation/global-modelling\n",
      "/research/foundation/informatics-lab/index\n",
      "/research/foundation/observational-studies\n",
      "/research/foundation/regional-model-evaluation-and-development/index\n",
      "/research/library-and-archive\n",
      "/research/news\n",
      "/services\n",
      "/services/government\n",
      "/services/government/defence-and-security\n",
      "/services/government/devolved-administrations\n",
      "/services/government/environmental-hazard-resilience\n",
      "/services/government/international-development\n",
      "/services/transport\n",
      "/services/transport/aviation/commercial\n",
      "/services/transport/aviation/regulated\n",
      "/services/transport/cav\n",
      "/services/transport/marine\n",
      "/services/transport/rail\n",
      "/services/transport/road\n",
      "/services/business-industry\n",
      "/services/business-industry/agriculture\n",
      "/services/business-industry/construction\n",
      "/services/business-industry/energy\n",
      "/services/business-industry/event-management\n",
      "/services/business-industry/legal-insurance\n",
      "/services/business-industry/media\n",
      "/services/business-industry/mining\n",
      "/services/business-industry/retail\n",
      "/services/business-industry/water\n",
      "/services/data\n",
      "/services/data\n",
      "/services/research-consulting\n",
      "/services/research-consulting/access-a-meteorologist\n",
      "/services/research-consulting/climate-service\n",
      "/services/research-consulting/international-programmes\n",
      "/services/research-consulting/weather-climate-consultancy\n",
      "/services/insights\n",
      "/about-us\n",
      "/about-us/who\n",
      "/about-us/supplying-the-met-office\n",
      "/about-us/supplying-the-met-office/advertising/sponsorship-opportunities\n",
      "/about-us/supplying-the-met-office/procurement\n",
      "/about-us/press-office\n",
      "/about-us/press-office/news/weather-and-climate\n",
      "/about-us/press-office/news/corporate\n",
      "https://blog.metoffice.gov.uk/\n",
      "/about-us/press-office/media-resources/podcasts\n",
      "/about-us/press-office/contact-press-office\n",
      "/about-us/careers\n",
      "/about-us/careers/working-here\n",
      "/about-us/careers/your-career\n",
      "/about-us/careers/vacancies\n",
      "/about-us/careers/rewards-and-benefits\n",
      "/about-us/careers/equality-diversity-and-inclusion\n",
      "/about-us/careers/apprentices-graduates-and-placements\n",
      "/about-us/contact\n",
      "/about-us/contact\n",
      "/forms/website-feedback\n",
      "/about-us/contact/in-exeter\n",
      "/search\n",
      "/weather/forecast/wh0zu7npp\n",
      "/weather/forecast/tsz6qq800\n",
      "/weather/forecast/ts5ehz1vq\n",
      "/weather/forecast/wh1yvzutk\n",
      "/weather/forecast/tewvbb7d1\n",
      "/weather/forecast/tud0gc1bz\n",
      "/weather/forecast/ttqsffw0q\n",
      "/weather/forecast/t9gxppdz3\n",
      "/weather/forecast/texr1fjwj\n",
      "/weather/forecast/ttt5zwndj\n",
      "/weather/forecast/tet945j9k\n",
      "/weather/forecast/tgvf6js7p\n",
      "/weather/forecast/tdr1v2w2t\n",
      "/weather/forecast/tujujkfkw\n",
      "/weather/forecast/tsdf2r9kd\n",
      "/weather/forecast/tv03qu974\n",
      "/weather/forecast/ts1b400b5\n",
      "/weather/forecast/tdsgdh1c8\n",
      "/weather/forecast/t9vzt17jv\n",
      "/weather/forecast/teg7ce4er\n",
      "/weather/forecast/tsph2juxc\n",
      "/weather/forecast/tgt51n7kz\n",
      "/weather/forecast/ts1s32s1h\n",
      "/weather/forecast/ts1sk2dc1\n",
      "/weather/forecast/tsup7cprv\n",
      "/weather/forecast/tgemu06f5\n",
      "/weather/forecast/wh6uwgd6f\n",
      "/weather/forecast/tdjbh3v63\n",
      "/weather/forecast/tdjee0fgb\n",
      "/weather/forecast/w19uptqgh\n",
      "/weather/forecast/tg83se2mx\n",
      "/weather/forecast/tf3461s20\n",
      "/weather/forecast/tf31bwedq\n",
      "/weather/forecast/tdw2gnqxu\n",
      "/weather/forecast/t9y0x57dc\n",
      "/weather/forecast/t9y0x9d0e\n",
      "/weather/forecast/tdmj7x7w7\n",
      "/weather/forecast/tf0dz5n8x\n",
      "/weather/forecast/tgth7qkq6\n",
      "/weather/forecast/tegeeb4mv\n",
      "/weather/forecast/tu7bc41vk\n",
      "/weather/forecast/tuycbsk38\n",
      "/weather/forecast/ttrs816m0\n",
      "/weather/forecast/tusxf0fyk\n",
      "/weather/forecast/tujrqc02s\n",
      "/weather/forecast/whgkrfwds\n",
      "/weather/forecast/whgs64x6w\n",
      "/weather/forecast/ttncrn2jk\n",
      "/weather/forecast/tdtz9p0h4\n",
      "/weather/forecast/tukkv1den\n",
      "/weather/forecast/tdsxe1jgg\n",
      "/weather/forecast/tdsx2pc6g\n",
      "/weather/forecast/tdu2pdxgh\n",
      "/weather/forecast/tug21jsnj\n",
      "/weather/forecast/ttp1k2ew6\n",
      "/weather/forecast/tsquprqsw\n",
      "/weather/forecast/ttncbsur8\n",
      "/weather/forecast/wh9h7zqe8\n",
      "/weather/forecast/tsxthx5bv\n",
      "/weather/forecast/tgyte7sc2\n",
      "/weather/forecast/ttjvgq0zs\n",
      "/weather/forecast/tdscmcmt3\n",
      "/weather/forecast/tepff5ftv\n",
      "/weather/forecast/tepg389tw\n",
      "/weather/forecast/t9rq90jwu\n",
      "/weather/forecast/wh6ubtpzs\n",
      "/weather/forecast/tsjckb5cs\n",
      "/weather/forecast/tu0ggr3vf\n",
      "/weather/forecast/tg6kd9kmj\n",
      "/weather/forecast/tsvbsf7vu\n",
      "/weather/forecast/tsf3j8zzy\n",
      "/weather/forecast/ts0u5e147\n",
      "/weather/forecast/tetxz8h3h\n",
      "/weather/forecast/ttv1yg3s9\n",
      "/weather/forecast/teczf2xqv\n",
      "/weather/forecast/tuj3c4625\n",
      "/weather/forecast/tsevteg89\n",
      "/weather/forecast/tg42rmtkf\n",
      "/weather/forecast/ts1fvsv6g\n",
      "/weather/forecast/tu9nkg7tu\n",
      "/weather/forecast/tcby0ekf5\n",
      "/weather/forecast/tdssqb5fd\n",
      "/weather/forecast/tef121jqn\n",
      "/weather/forecast/teyk1y4bv\n",
      "/weather/forecast/tunb1zrcn\n",
      "/weather/forecast/tunbushvj\n",
      "/weather/forecast/tsmzn42m3\n",
      "/weather/forecast/t9rq2rq3d\n",
      "/weather/forecast/t9ywx6rzd\n",
      "/weather/forecast/tdz9bs2cd\n",
      "/weather/forecast/tuc8cee3j\n",
      "/weather/forecast/tuc80t9qj\n",
      "/weather/forecast/ttmzxgdwc\n",
      "/weather/forecast/tfcsnt5eu\n",
      "/weather/forecast/t9xxbv2pg\n",
      "/weather/forecast/tdmh5cfvu\n",
      "/weather/forecast/t9rx8k623\n",
      "/weather/forecast/ts13fh54k\n",
      "/weather/forecast/tdm1pnbv4\n",
      "/weather/forecast/tdm1wv3x1\n",
      "/weather/forecast/ttpjndbmy\n",
      "/weather/forecast/t9kp0wfpn\n",
      "/weather/forecast/tdsrxjk1z\n",
      "/weather/forecast/te7g9mhy4\n",
      "/weather/forecast/te7ud4uxw\n",
      "/weather/forecast/te7ud4uxw\n",
      "/weather/forecast/ts19fmck8\n",
      "/weather/forecast/tdntcr5hx\n",
      "/weather/forecast/tcbv0yc9w\n",
      "/weather/forecast/tgb226jrt\n",
      "/weather/forecast/tesdd0dcs\n",
      "/weather/forecast/tes3xg6jd\n",
      "/weather/forecast/whg2fj373\n",
      "/weather/forecast/tf8f5yx9m\n",
      "/weather/forecast/ttnfsermf\n",
      "/weather/forecast/ttnfdcj06\n",
      "/weather/forecast/tecpg2xyy\n",
      "/weather/forecast/tfbbnm8qp\n",
      "/weather/forecast/tgtek7y7w\n",
      "/weather/forecast/teqtdgypy\n",
      "/weather/forecast/ttqks17v0\n",
      "/weather/forecast/tus98krfv\n",
      "/weather/forecast/tdx4ywff5\n",
      "/weather/forecast/tgf0ccrtn\n",
      "/weather/forecast/tu41x9jub\n",
      "/weather/forecast/t9rrqmpm1\n",
      "/weather/forecast/tf0gbef3m\n",
      "/weather/forecast/tece052qn\n",
      "/weather/forecast/w41fmukws\n",
      "/weather/forecast/tek9dn6uk\n",
      "/weather/forecast/tek92mrcj\n",
      "/weather/forecast/tgt08ukpq\n",
      "/weather/forecast/tdzh0jhec\n",
      "/weather/forecast/tefqfes6v\n",
      "/weather/forecast/tuhstt20u\n",
      "/weather/forecast/tsjkev38z\n",
      "/weather/forecast/teh0eubju\n",
      "/weather/forecast/ttj5x9y8v\n",
      "/weather/forecast/tu3gd18ce\n",
      "/weather/forecast/tecqzv3jj\n",
      "/weather/forecast/tdpd6bcdj\n",
      "/weather/forecast/tggdnu3pf\n",
      "/weather/forecast/tgwy85tsn\n",
      "/weather/forecast/tu37z2fde\n",
      "/weather/forecast/tuwz3zbdv\n",
      "/weather/forecast/wh936ybup\n",
      "/weather/forecast/tejux0sxn\n",
      "/weather/forecast/tecxtj0dk\n",
      "/weather/forecast/wh3uz9wgh\n",
      "/weather/forecast/tuwzdyd8s\n",
      "/weather/forecast/twj1yuevw\n",
      "/weather/forecast/tegb9734y\n",
      "/weather/forecast/ts1506b6p\n",
      "/weather/forecast/tdjdy512t\n",
      "/weather/forecast/wh9zrq02d\n",
      "/weather/forecast/t9w8pp9r8\n",
      "/weather/forecast/t9x83f5g3\n",
      "/weather/forecast/tstugsp7q\n",
      "/weather/forecast/t9w8t0z4b\n",
      "/weather/forecast/t9x9g0buq\n",
      "/weather/forecast/tsk7v4dsy\n",
      "/weather/forecast/t9rrhd3mm\n",
      "/weather/forecast/teup5319d\n",
      "/weather/forecast/tu7pcjtr4\n",
      "/weather/forecast/tf2390522\n",
      "/weather/forecast/tdu673p9r\n",
      "/weather/forecast/tednbye39\n",
      "/weather/forecast/tfcmfx3ey\n",
      "/weather/forecast/tg5hzcb6r\n",
      "/\n",
      "/feedback\n",
      "/\n",
      "/weather/world/list\n",
      "/weather/world/india\n",
      "https://college.metoffice.gov.uk/\n",
      "https://library.metoffice.gov.uk/portal\n",
      "https://wow.metoffice.gov.uk\n",
      "/about-us/website/accessibility\n",
      "/about-us/legal/privacy\n",
      "/about-us/legal/cookies\n",
      "/about-us/legal\n",
      "/about-us/guide-to-emails\n",
      "/weather/guides/rss\n",
      "https://play.google.com/store/apps/details?id=uk.gov.metoffice.weather.android&referrer=utm_source%3DMet%2520Office%2520Desktop%2520site%2520apps%2520page\n",
      "https://apps.apple.com/app/apple-store/id1068146838\n",
      "https://twitter.com/metoffice\n",
      "https://www.youtube.com/user/TheMetOffice\n",
      "https://www.facebook.com/metoffice\n",
      "https://www.tiktok.com/@metoffice\n",
      "https://www.instagram.com/metoffice/\n",
      "https://www.linkedin.com/company/met-office/\n",
      "/about-us/legal#licences\n"
     ]
    }
   ],
   "source": [
    "for link in soup.find_all('a'):\n",
    "    print(link.get('href'))"
   ]
  },
  {
   "cell_type": "markdown",
   "id": "ab9d02dd",
   "metadata": {},
   "source": [
    "#### Step 4\n",
    "\n",
    "Next, the code creates base_url to save for later and an empty list called state_links to save all the state/city links from the HTML. It fetches all the links and appends them to state_link if they include '/weather/forecast' as all loinks to individual Indian states are in the format '/weather/forecast/string'. The only exception is 'weather/forecast/uk' which has a link to UK forecast, so the code ignores that.\n",
    "Example page: [Agartala (India) weather - Met Office](https://www.metoffice.gov.uk/weather/forecast/wh0zu7npp#?date=2023-03-14)"
   ]
  },
  {
   "cell_type": "code",
   "execution_count": 5,
   "id": "0f92b95c",
   "metadata": {},
   "outputs": [
    {
     "name": "stdout",
     "output_type": "stream",
     "text": [
      "169\n"
     ]
    }
   ],
   "source": [
    "base_url = 'https://www.metoffice.gov.uk'\n",
    "state_links = []\n",
    "for link in soup.find_all('a'):\n",
    "    url = link.get('href')\n",
    "    if url and '/weather/forecast/' in url and '/weather/forecast/uk' not in url:\n",
    "        state_links.append(url)\n",
    "print(len(state_links))"
   ]
  },
  {
   "cell_type": "markdown",
   "id": "7de88963",
   "metadata": {},
   "source": [
    "The rest of the code (before the final loop) only tests using the example page given above, which is the sixth page in the state_links. Steps 1 and 2 are repeated and the page is converted into a bs4 object"
   ]
  },
  {
   "cell_type": "code",
   "execution_count": 6,
   "id": "f398c768",
   "metadata": {},
   "outputs": [
    {
     "name": "stdout",
     "output_type": "stream",
     "text": [
      "Allahabad (India) weather - Met Office\n"
     ]
    }
   ],
   "source": [
    "r = requests.get(base_url + state_links[5])\n",
    "soup = BeautifulSoup(r.text)\n",
    "print(soup.title.string)"
   ]
  },
  {
   "cell_type": "markdown",
   "id": "4d840a11",
   "metadata": {},
   "source": [
    "#### Step 5\n",
    "\n",
    "Next, it finds all span tags and saves them into a rows. This is where the High temperatures are saved in the page. The bs4 object is converted into a Python list and used to find all tags that include the keyword 'tab-temp-high' used in the HTML"
   ]
  },
  {
   "cell_type": "code",
   "execution_count": 7,
   "id": "0008cc6f",
   "metadata": {},
   "outputs": [
    {
     "name": "stdout",
     "output_type": "stream",
     "text": [
      "954\n"
     ]
    }
   ],
   "source": [
    "rows = soup.find_all('span')\n",
    "print(len(rows))"
   ]
  },
  {
   "cell_type": "code",
   "execution_count": 8,
   "id": "52bed9d9",
   "metadata": {},
   "outputs": [
    {
     "name": "stdout",
     "output_type": "stream",
     "text": [
      "14\n",
      "[<span class=\"tab-temp-high\" data-value=\"33.44\" title=\"Maximum daytime temperature\">33°</span>, <span class=\"tab-temp-high\" data-value=\"33.44\" title=\"Maximum daytime temperature\">33°</span>, <span class=\"tab-temp-high\" data-value=\"33.51\" title=\"Maximum daytime temperature\">34°</span>, <span class=\"tab-temp-high\" data-value=\"33.51\" title=\"Maximum daytime temperature\">34°</span>, <span class=\"tab-temp-high\" data-value=\"31.54\" title=\"Maximum daytime temperature\">32°</span>, <span class=\"tab-temp-high\" data-value=\"31.54\" title=\"Maximum daytime temperature\">32°</span>, <span class=\"tab-temp-high\" data-value=\"29.79\" title=\"Maximum daytime temperature\">30°</span>, <span class=\"tab-temp-high\" data-value=\"29.79\" title=\"Maximum daytime temperature\">30°</span>, <span class=\"tab-temp-high\" data-value=\"29.61\" title=\"Maximum daytime temperature\">30°</span>, <span class=\"tab-temp-high\" data-value=\"29.61\" title=\"Maximum daytime temperature\">30°</span>, <span class=\"tab-temp-high\" data-value=\"28.13\" title=\"Maximum daytime temperature\">28°</span>, <span class=\"tab-temp-high\" data-value=\"28.13\" title=\"Maximum daytime temperature\">28°</span>, <span class=\"tab-temp-high\" data-value=\"27.71\" title=\"Maximum daytime temperature\">28°</span>, <span class=\"tab-temp-high\" data-value=\"27.71\" title=\"Maximum daytime temperature\">28°</span>]\n"
     ]
    }
   ],
   "source": [
    "rows = [row for row in rows if 'tab-temp-high' in str(row)]\n",
    "print(len(rows))\n",
    "print(rows)"
   ]
  },
  {
   "cell_type": "markdown",
   "id": "ee947df5",
   "metadata": {},
   "source": [
    "#### Step 7\n",
    "\n",
    "Next, the code creates an empty list for high_temps and finds all the 'td's and appends them to the list to get a series of temperatures."
   ]
  },
  {
   "cell_type": "code",
   "execution_count": 21,
   "id": "72775a16",
   "metadata": {},
   "outputs": [
    {
     "name": "stdout",
     "output_type": "stream",
     "text": [
      "['32°', '32°', '32°', '32°', '32°', '29°', '29°', '27°', '27°', '27°', '27°', '29°', '29°']\n"
     ]
    }
   ],
   "source": [
    "high_temps = []\n",
    "for row in rows:\n",
    "    tds = row.find_all('td')\n",
    "    for i in range(1,14):\n",
    "        high_temps.append(rows[i].text)\n",
    "        \n",
    "del high_temps[13:]\n",
    "print(high_temps)"
   ]
  },
  {
   "cell_type": "markdown",
   "id": "a25b1416",
   "metadata": {},
   "source": [
    "Next, I used matplotlib to plot the temperatures from the list"
   ]
  },
  {
   "cell_type": "code",
   "execution_count": 27,
   "id": "ac533f73",
   "metadata": {},
   "outputs": [
    {
     "ename": "TypeError",
     "evalue": "bad operand type for unary -: 'range'",
     "output_type": "error",
     "traceback": [
      "\u001b[1;31m---------------------------------------------------------------------------\u001b[0m",
      "\u001b[1;31mTypeError\u001b[0m                                 Traceback (most recent call last)",
      "Cell \u001b[1;32mIn[27], line 6\u001b[0m\n\u001b[0;32m      3\u001b[0m x \u001b[38;5;241m=\u001b[39m \u001b[38;5;28mrange\u001b[39m(\u001b[38;5;241m0\u001b[39m,\u001b[38;5;241m13\u001b[39m)\n\u001b[0;32m      4\u001b[0m y \u001b[38;5;241m=\u001b[39m high_temps\n\u001b[1;32m----> 6\u001b[0m plt\u001b[38;5;241m.\u001b[39mplot((\u001b[38;5;241;43m-\u001b[39;49m\u001b[43mx\u001b[49m),y)\n\u001b[0;32m      7\u001b[0m plt\u001b[38;5;241m.\u001b[39mshow()\n",
      "\u001b[1;31mTypeError\u001b[0m: bad operand type for unary -: 'range'"
     ]
    }
   ],
   "source": [
    "import matplotlib.pyplot as plt\n",
    "\n",
    "x = range(0,13)\n",
    "y = high_temps\n",
    "\n",
    "plt.plot(x,y)\n",
    "plt.show()"
   ]
  },
  {
   "cell_type": "markdown",
   "id": "d2c8f7c7",
   "metadata": {},
   "source": [
    "#### Step 8\n",
    "\n",
    "The code then finds the name of the state by picking up only the first word from the page title (name of city/state) which is in the format 'Allahabad (India) weather - Met Office' It then combines the name and the high_temps list into a dictionary."
   ]
  },
  {
   "cell_type": "markdown",
   "id": "e7b6f9cd",
   "metadata": {},
   "source": [
    "## "
   ]
  },
  {
   "cell_type": "code",
   "execution_count": 12,
   "id": "f15e15d8",
   "metadata": {},
   "outputs": [
    {
     "name": "stdout",
     "output_type": "stream",
     "text": [
      "Allahabad\n"
     ]
    }
   ],
   "source": [
    "state = soup.title.string.split()[0]\n",
    "print(state)"
   ]
  },
  {
   "cell_type": "code",
   "execution_count": 20,
   "id": "3f5c1bf5",
   "metadata": {},
   "outputs": [
    {
     "name": "stdout",
     "output_type": "stream",
     "text": [
      "{'Vishakhapatnam': ['32°', '32°', '32°', '32°', '32°', '29°', '29°', '27°', '27°', '27°', '27°', '32°', '32°']}\n"
     ]
    }
   ],
   "source": [
    "data = {}\n",
    "data[state] = high_temps\n",
    "print(data)"
   ]
  },
  {
   "cell_type": "markdown",
   "id": "3a036d9f",
   "metadata": {},
   "source": [
    "### Final Loop\n",
    "\n",
    "After the proof of concept for one page, I run all the steps 1-8 in a loop to get temperature data for every single state link on the page. This is then saved into a CSV file called high_temps.csv using the csv module"
   ]
  },
  {
   "cell_type": "code",
   "execution_count": 14,
   "id": "729484ce",
   "metadata": {},
   "outputs": [
    {
     "name": "stdout",
     "output_type": "stream",
     "text": [
      "{'Agartala': ['33°', '32°', '32°', '32°', '32°', '32°', '32°', '30°', '30°', '28°', '28°', '33°', '32°'], 'Agra': ['33°', '33°', '33°', '31°', '31°', '29°', '29°', '28°', '28°', '28°', '28°', '33°', '33°'], 'Ahmadabad': ['39°', '35°', '35°', '36°', '36°', '35°', '35°', '35°', '35°', '34°', '34°', '39°', '35°'], 'Aizawl': ['25°', '25°', '25°', '25°', '25°', '26°', '26°', '24°', '24°', '22°', '22°', '25°', '25°'], 'Akola': ['35°', '36°', '36°', '32°', '32°', '32°', '32°', '31°', '31°', '31°', '31°', '35°', '36°'], 'Allahabad': ['33°', '34°', '34°', '32°', '32°', '30°', '30°', '30°', '30°', '28°', '28°', '33°', '34°'], 'Ambala': ['30°', '30°', '30°', '30°', '30°', '27°', '27°', '25°', '25°', '26°', '26°', '30°', '30°'], 'Aminidivi': ['34°', '33°', '33°', '33°', '33°', '33°', '33°', '33°', '33°', '33°', '33°', '34°', '33°'], 'Amravati': ['34°', '35°', '35°', '31°', '31°', '31°', '31°', '30°', '30°', '30°', '30°', '34°', '35°'], 'Amritsar': ['31°', '31°', '31°', '30°', '30°', '27°', '27°', '25°', '25°', '25°', '25°', '31°', '31°'], 'Aurangabad': ['33°', '33°', '33°', '31°', '31°', '30°', '30°', '30°', '30°', '30°', '30°', '33°', '33°'], 'Baleshwar': ['34°', '32°', '32°', '32°', '32°', '31°', '31°', '28°', '28°', '27°', '27°', '34°', '32°'], 'Bangalore': ['33°', '33°', '33°', '31°', '31°', '30°', '30°', '32°', '32°', '31°', '31°', '33°', '33°'], 'Bankura': ['36°', '35°', '35°', '36°', '36°', '33°', '33°', '31°', '31°', '29°', '29°', '36°', '35°'], 'Barmer': ['35°', '34°', '34°', '32°', '32°', '32°', '32°', '32°', '32°', '31°', '31°', '35°', '34°'], 'Barreilly': ['32°', '32°', '32°', '31°', '31°', '27°', '27°', '26°', '26°', '26°', '26°', '32°', '32°'], 'Bedi': ['37°', '33°', '33°', '33°', '33°', '33°', '33°', '32°', '32°', '32°', '32°', '37°', '33°'], 'Belekeri': ['33°', '31°', '31°', '32°', '32°', '32°', '32°', '31°', '31°', '31°', '31°', '33°', '31°'], 'Beypore': ['34°', '33°', '33°', '33°', '33°', '33°', '33°', '33°', '33°', '33°', '33°', '34°', '33°'], 'Bhavnagar': ['37°', '35°', '35°', '35°', '35°', '35°', '35°', '34°', '34°', '34°', '34°', '37°', '35°'], 'Bhopal': ['32°', '32°', '32°', '29°', '29°', '29°', '29°', '28°', '28°', '28°', '28°', '32°', '32°'], 'Bhubaneshwar': ['35°', '35°', '35°', '34°', '34°', '33°', '33°', '28°', '28°', '27°', '27°', '35°', '35°'], 'Bhuj': ['36°', '33°', '33°', '34°', '34°', '34°', '34°', '33°', '33°', '33°', '33°', '36°', '33°'], 'Bhuj-Rudramata': ['39°', '36°', '36°', '37°', '37°', '37°', '37°', '36°', '36°', '36°', '36°', '39°', '36°'], 'Bikaner': ['34°', '34°', '34°', '32°', '32°', '31°', '31°', '31°', '31°', '30°', '30°', '34°', '34°'], 'Bolangir': ['36°', '36°', '36°', '34°', '34°', '30°', '30°', '30°', '30°', '29°', '29°', '36°', '36°'], 'Bongba': ['26°', '24°', '24°', '25°', '25°', '25°', '25°', '22°', '22°', '22°', '22°', '26°', '24°'], 'Calicut': ['34°', '34°', '34°', '33°', '33°', '34°', '34°', '33°', '33°', '33°', '33°', '34°', '34°'], 'Cannanore': ['34°', '32°', '32°', '32°', '32°', '33°', '33°', '32°', '32°', '31°', '31°', '34°', '32°'], 'Car': ['29°', '29°', '29°', '29°', '29°', '29°', '29°', '29°', '29°', '30°', '30°', '29°', '29°'], 'Chandrapur': ['36°', '36°', '36°', '32°', '32°', '30°', '30°', '30°', '30°', '30°', '30°', '36°', '36°'], 'Chennai': ['34°', '34°', '34°', '34°', '34°', '33°', '33°', '33°', '33°', '34°', '34°', '34°', '34°'], 'Chitradurga': ['33°', '33°', '33°', '31°', '31°', '31°', '31°', '32°', '32°', '31°', '31°', '33°', '33°'], 'Cochin': ['35°', '33°', '33°', '33°', '33°', '33°', '33°', '33°', '33°', '32°', '32°', '35°', '33°'], 'Coondapur': ['34°', '33°', '33°', '32°', '32°', '32°', '32°', '32°', '32°', '31°', '31°', '34°', '33°'], 'Cuddalore': ['31°', '31°', '31°', '31°', '31°', '31°', '31°', '30°', '30°', '31°', '31°', '31°', '31°'], 'Cuttack': ['35°', '35°', '35°', '34°', '34°', '32°', '32°', '29°', '29°', '27°', '27°', '35°', '35°'], 'Dahej': ['36°', '35°', '35°', '34°', '34°', '32°', '32°', '32°', '32°', '32°', '32°', '36°', '35°'], 'Daltonganj': ['37°', '36°', '36°', '36°', '36°', '32°', '32°', '32°', '32°', '30°', '30°', '37°', '36°'], 'Darjiling': ['14°', '13°', '13°', '14°', '14°', '12°', '12°', '12°', '12°', '13°', '13°', '14°', '13°'], 'Dehra': ['26°', '27°', '27°', '27°', '27°', '24°', '24°', '23°', '23°', '24°', '24°', '26°', '27°'], 'Dhaka': ['33°', '33°', '33°', '33°', '33°', '29°', '29°', '28°', '28°', '27°', '27°', '33°', '33°'], 'Dhanbad': ['33°', '34°', '34°', '34°', '34°', '30°', '30°', '28°', '28°', '26°', '26°', '33°', '34°'], 'Dibrugarh': ['32°', '25°', '25°', '24°', '24°', '27°', '27°', '26°', '26°', '26°', '26°', '32°', '25°'], 'Faridabad': ['32°', '32°', '32°', '31°', '31°', '28°', '28°', '27°', '27°', '28°', '28°', '32°', '32°'], 'Gadag': ['35°', '34°', '34°', '32°', '32°', '32°', '32°', '33°', '33°', '32°', '32°', '35°', '34°'], 'Gaya': ['34°', '34°', '34°', '35°', '35°', '31°', '31°', '30°', '30°', '28°', '28°', '34°', '34°'], 'Goa': ['33°', '32°', '32°', '32°', '32°', '32°', '32°', '31°', '31°', '31°', '31°', '33°', '32°'], 'Goa/Panjim': ['34°', '33°', '33°', '34°', '34°', '33°', '33°', '33°', '33°', '33°', '33°', '34°', '33°'], 'Gorakhpur': ['33°', '33°', '33°', '32°', '32°', '29°', '29°', '28°', '28°', '27°', '27°', '33°', '33°'], 'Greater': ['31°', '32°', '32°', '31°', '31°', '28°', '28°', '27°', '27°', '28°', '28°', '31°', '32°'], 'Guna': ['33°', '33°', '33°', '29°', '29°', '30°', '30°', '29°', '29°', '28°', '28°', '33°', '33°'], 'Gurgaon': ['32°', '32°', '32°', '31°', '31°', '28°', '28°', '27°', '27°', '28°', '28°', '32°', '32°'], 'Guwahati': ['32°', '29°', '29°', '27°', '27°', '27°', '27°', '26°', '26°', '25°', '25°', '32°', '29°'], 'Gwalior': ['33°', '34°', '34°', '31°', '31°', '29°', '29°', '29°', '29°', '29°', '29°', '33°', '34°'], 'Haldia': ['33°', '32°', '32°', '31°', '31°', '31°', '31°', '29°', '29°', '27°', '27°', '33°', '32°'], 'Hissar': ['33°', '33°', '33°', '32°', '32°', '30°', '30°', '28°', '28°', '29°', '29°', '33°', '33°'], 'Honavar': ['33°', '32°', '32°', '32°', '32°', '31°', '31°', '31°', '31°', '30°', '30°', '33°', '32°'], 'Hyderabad': ['34°', '35°', '35°', '33°', '33°', '30°', '30°', '30°', '30°', '31°', '31°', '34°', '35°'], 'Idinthakarai': ['32°', '33°', '33°', '32°', '32°', '32°', '32°', '32°', '32°', '33°', '33°', '32°', '33°'], 'Imphal': ['31°', '28°', '28°', '29°', '29°', '30°', '30°', '28°', '28°', '26°', '26°', '31°', '28°'], 'Indore': ['32°', '33°', '33°', '30°', '30°', '30°', '30°', '29°', '29°', '29°', '29°', '32°', '33°'], 'Jabalpur': ['34°', '33°', '33°', '29°', '29°', '29°', '29°', '29°', '29°', '28°', '28°', '34°', '33°'], 'Jagdalpur': ['32°', '33°', '33°', '30°', '30°', '27°', '27°', '27°', '27°', '27°', '27°', '32°', '33°'], 'Jaipur': ['32°', '33°', '33°', '30°', '30°', '29°', '29°', '29°', '29°', '28°', '28°', '32°', '33°'], 'Jaisalmer': ['37°', '37°', '37°', '34°', '34°', '34°', '34°', '34°', '34°', '32°', '32°', '37°', '37°'], 'Jakhau': ['36°', '32°', '32°', '30°', '30°', '30°', '30°', '30°', '30°', '30°', '30°', '36°', '32°'], 'Jalgaon': ['36°', '36°', '36°', '34°', '34°', '33°', '33°', '33°', '33°', '32°', '32°', '36°', '36°'], 'Jammu': ['30°', '30°', '30°', '29°', '29°', '26°', '26°', '25°', '25°', '24°', '24°', '30°', '30°'], 'Jamnagar': ['37°', '33°', '33°', '33°', '33°', '33°', '33°', '32°', '32°', '32°', '32°', '37°', '33°'], 'Jamshedpur': ['36°', '35°', '35°', '35°', '35°', '31°', '31°', '29°', '29°', '27°', '27°', '36°', '35°'], 'Jodhpur': ['35°', '35°', '35°', '32°', '32°', '32°', '32°', '32°', '32°', '31°', '31°', '35°', '35°'], 'Kakinada': ['33°', '32°', '32°', '32°', '32°', '29°', '29°', '27°', '27°', '28°', '28°', '33°', '32°'], 'Kandla': ['35°', '31°', '31°', '32°', '32°', '31°', '31°', '31°', '31°', '31°', '31°', '35°', '31°'], 'Kanpur': ['33°', '33°', '33°', '31°', '31°', '29°', '29°', '28°', '28°', '28°', '28°', '33°', '33°'], 'Karaikal': ['31°', '32°', '32°', '31°', '31°', '31°', '31°', '31°', '31°', '32°', '32°', '31°', '32°'], 'Karwar': ['33°', '32°', '32°', '32°', '32°', '32°', '32°', '31°', '31°', '31°', '31°', '33°', '32°'], 'Keshod': ['37°', '34°', '34°', '35°', '35°', '34°', '34°', '33°', '33°', '33°', '33°', '37°', '34°'], 'Khandwa': ['35°', '35°', '35°', '32°', '32°', '32°', '32°', '30°', '30°', '31°', '31°', '35°', '35°'], 'Kolkata': ['35°', '34°', '34°', '33°', '33°', '32°', '32°', '30°', '30°', '28°', '28°', '35°', '34°'], 'Kota': ['34°', '34°', '34°', '31°', '31°', '31°', '31°', '31°', '31°', '30°', '30°', '34°', '34°'], 'Kudankulam': ['33°', '33°', '33°', '33°', '33°', '33°', '33°', '32°', '32°', '33°', '33°', '33°', '33°'], 'Kundapura': ['35°', '35°', '35°', '34°', '34°', '34°', '34°', '34°', '34°', '34°', '34°', '35°', '35°'], 'Kurnool': ['37°', '36°', '36°', '35°', '35°', '33°', '33°', '33°', '33°', '33°', '33°', '37°', '36°'], 'Lucknow': ['34°', '34°', '34°', '32°', '32°', '28°', '28°', '28°', '28°', '28°', '28°', '34°', '34°'], 'Lucknow/Amausi': ['34°', '34°', '34°', '32°', '32°', '29°', '29°', '29°', '29°', '28°', '28°', '34°', '34°'], 'Ludhiana': ['31°', '31°', '31°', '30°', '30°', '28°', '28°', '25°', '25°', '26°', '26°', '31°', '31°'], 'Machilipatnam': ['31°', '31°', '31°', '31°', '31°', '28°', '28°', '29°', '29°', '28°', '28°', '31°', '31°'], 'Madurai': ['36°', '36°', '36°', '36°', '36°', '35°', '35°', '35°', '35°', '36°', '36°', '36°', '36°'], 'Malpe': ['33°', '32°', '32°', '32°', '32°', '31°', '31°', '31°', '31°', '31°', '31°', '33°', '32°'], 'Manapad': ['31°', '32°', '32°', '31°', '31°', '32°', '32°', '32°', '32°', '33°', '33°', '31°', '32°'], 'Mandvi': ['34°', '32°', '32°', '29°', '29°', '29°', '29°', '29°', '29°', '29°', '29°', '34°', '32°'], 'Mangalore': ['33°', '33°', '33°', '33°', '33°', '33°', '33°', '33°', '33°', '32°', '32°', '33°', '33°'], 'Mangalore/Panambur': ['36°', '36°', '36°', '35°', '35°', '35°', '35°', '35°', '35°', '35°', '35°', '36°', '36°'], 'Meerut': ['32°', '33°', '33°', '32°', '32°', '28°', '28°', '27°', '27°', '28°', '28°', '32°', '33°'], 'Minicoy': ['30°', '30°', '30°', '30°', '30°', '31°', '31°', '30°', '30°', '30°', '30°', '30°', '30°'], 'Mormugao': ['32°', '31°', '31°', '32°', '32°', '31°', '31°', '31°', '31°', '31°', '31°', '32°', '31°'], 'Mumbai': ['37°', '36°', '36°', '34°', '34°', '33°', '33°', '33°', '33°', '32°', '32°', '37°', '36°'], 'Mundra': ['36°', '32°', '32°', '31°', '31°', '31°', '31°', '30°', '30°', '30°', '30°', '36°', '32°'], 'Mysore': ['32°', '33°', '33°', '32°', '32°', '32°', '32°', '33°', '33°', '32°', '32°', '32°', '33°'], 'Nagapattinam': ['31°', '31°', '31°', '31°', '31°', '31°', '31°', '31°', '31°', '32°', '32°', '31°', '31°'], 'Nagpur': ['35°', '34°', '34°', '31°', '31°', '30°', '30°', '29°', '29°', '29°', '29°', '35°', '34°'], 'Nasik': ['34°', '33°', '33°', '31°', '31°', '30°', '30°', '30°', '30°', '30°', '30°', '34°', '33°'], 'Nazira': ['30°', '25°', '25°', '22°', '22°', '25°', '25°', '24°', '24°', '24°', '24°', '30°', '25°'], 'Nellore': ['34°', '35°', '35°', '34°', '34°', '33°', '33°', '34°', '34°', '34°', '34°', '34°', '35°'], 'New': ['34°', '33°', '33°', '32°', '32°', '29°', '29°', '28°', '28°', '29°', '29°', '34°', '33°'], 'Okha': ['30°', '30°', '30°', '29°', '29°', '29°', '29°', '29°', '29°', '29°', '29°', '30°', '30°'], 'Ongole': ['33°', '32°', '32°', '33°', '33°', '31°', '31°', '31°', '31°', '32°', '32°', '33°', '32°'], 'Paradip': ['31°', '30°', '30°', '30°', '30°', '30°', '30°', '27°', '27°', '27°', '27°', '31°', '30°'], 'Parbhani': ['35°', '35°', '35°', '32°', '32°', '31°', '31°', '30°', '30°', '31°', '31°', '35°', '35°'], 'Patiala': ['31°', '31°', '31°', '31°', '31°', '28°', '28°', '26°', '26°', '27°', '27°', '31°', '31°'], 'Patna': ['34°', '35°', '35°', '34°', '34°', '30°', '30°', '30°', '30°', '28°', '28°', '34°', '35°'], 'Pbo': ['37°', '36°', '36°', '32°', '32°', '30°', '30°', '30°', '30°', '30°', '30°', '37°', '36°'], 'Pendra': ['35°', '34°', '34°', '31°', '31°', '29°', '29°', '28°', '28°', '27°', '27°', '35°', '34°'], 'Periyathalai': ['32°', '33°', '33°', '32°', '32°', '32°', '32°', '32°', '32°', '33°', '33°', '32°', '33°'], 'Pondicherry': ['31°', '31°', '31°', '31°', '31°', '31°', '31°', '30°', '30°', '31°', '31°', '31°', '31°'], 'Porbandar': ['35°', '33°', '33°', '30°', '30°', '30°', '30°', '30°', '30°', '30°', '30°', '35°', '33°'], 'Port': ['30°', '30°', '30°', '30°', '30°', '30°', '30°', '31°', '31°', '31°', '31°', '30°', '30°'], 'Pune': ['35°', '34°', '34°', '33°', '33°', '31°', '31°', '31°', '31°', '30°', '30°', '35°', '34°'], 'Puri': ['32°', '32°', '32°', '31°', '31°', '31°', '31°', '28°', '28°', '27°', '27°', '32°', '32°'], 'Raichur': ['35°', '35°', '35°', '33°', '33°', '32°', '32°', '32°', '32°', '33°', '33°', '35°', '35°'], 'Rajkot': ['37°', '32°', '32°', '35°', '35°', '34°', '34°', '33°', '33°', '33°', '33°', '37°', '32°'], 'Ranchi': ['31°', '31°', '31°', '31°', '31°', '27°', '27°', '26°', '26°', '24°', '24°', '31°', '31°'], 'Ratlam': ['34°', '34°', '34°', '31°', '31°', '31°', '31°', '30°', '30°', '30°', '30°', '34°', '34°'], 'Ratnagiri': ['34°', '33°', '33°', '33°', '33°', '32°', '32°', '32°', '32°', '31°', '31°', '34°', '33°'], 'Redi': ['34°', '34°', '34°', '33°', '33°', '31°', '31°', '30°', '30°', '30°', '30°', '34°', '34°'], 'Rewa': ['33°', '33°', '33°', '30°', '30°', '30°', '30°', '30°', '30°', '28°', '28°', '33°', '33°'], 'Salaya': ['34°', '33°', '33°', '32°', '32°', '32°', '32°', '31°', '31°', '31°', '31°', '34°', '33°'], 'Salem': ['36°', '35°', '35°', '34°', '34°', '34°', '34°', '34°', '34°', '35°', '35°', '36°', '35°'], 'Sambalpur': ['36°', '35°', '35°', '34°', '34°', '29°', '29°', '29°', '29°', '28°', '28°', '36°', '35°'], 'Sandheads': ['29°', '28°', '28°', '28°', '28°', '28°', '28°', '26°', '26°', '26°', '26°', '29°', '28°'], 'Satna': ['33°', '33°', '33°', '30°', '30°', '29°', '29°', '29°', '29°', '28°', '28°', '33°', '33°'], 'Shiliguri': ['31°', '30°', '30°', '29°', '29°', '27°', '27°', '26°', '26°', '25°', '25°', '31°', '30°'], 'Shillong': ['21°', '18°', '18°', '18°', '18°', '18°', '18°', '16°', '16°', '16°', '16°', '21°', '18°'], 'Sholapur': ['37°', '37°', '37°', '34°', '34°', '33°', '33°', '33°', '33°', '33°', '33°', '37°', '37°'], 'Sika': ['36°', '32°', '32°', '30°', '30°', '30°', '30°', '29°', '29°', '29°', '29°', '36°', '32°'], 'Silchar': ['33°', '30°', '30°', '31°', '31°', '31°', '31°', '28°', '28°', '27°', '27°', '33°', '30°'], 'Siliguri': ['31°', '30°', '30°', '29°', '29°', '27°', '27°', '26°', '26°', '25°', '25°', '31°', '30°'], 'Srinagar': ['22°', '21°', '21°', '19°', '19°', '18°', '18°', '18°', '18°', '18°', '18°', '22°', '21°'], 'Surat': ['38°', '34°', '34°', '33°', '33°', '32°', '32°', '32°', '32°', '32°', '32°', '38°', '34°'], 'Suthari': ['35°', '32°', '32°', '29°', '29°', '29°', '29°', '29°', '29°', '29°', '29°', '35°', '32°'], 'Tellicherry': ['34°', '32°', '32°', '32°', '32°', '33°', '33°', '33°', '33°', '32°', '32°', '34°', '32°'], 'Tezpur': ['32°', '28°', '28°', '25°', '25°', '27°', '27°', '25°', '25°', '25°', '25°', '32°', '28°'], 'Thiruvananthapuram': ['34°', '34°', '34°', '34°', '34°', '34°', '34°', '33°', '33°', '33°', '33°', '34°', '34°'], 'Tiruchendur': ['30°', '31°', '31°', '31°', '31°', '31°', '31°', '31°', '31°', '32°', '32°', '30°', '31°'], 'Tonk': ['33°', '33°', '33°', '30°', '30°', '30°', '30°', '29°', '29°', '29°', '29°', '33°', '33°'], 'Trivandrum': ['34°', '32°', '32°', '32°', '32°', '32°', '32°', '32°', '32°', '31°', '31°', '34°', '32°'], 'Tuticorin': ['31°', '32°', '32°', '31°', '31°', '31°', '31°', '31°', '31°', '32°', '32°', '31°', '32°'], 'Udaipur': ['32°', '31°', '31°', '29°', '29°', '29°', '29°', '29°', '29°', '28°', '28°', '32°', '31°'], 'Uvari': ['31°', '32°', '32°', '32°', '32°', '32°', '32°', '32°', '32°', '33°', '33°', '31°', '32°'], 'Vadodara': ['35°', '34°', '34°', '33°', '33°', '32°', '32°', '31°', '31°', '31°', '31°', '35°', '34°'], 'Varanasi': ['34°', '35°', '35°', '34°', '34°', '31°', '31°', '30°', '30°', '28°', '28°', '34°', '35°'], 'Vellore': ['34°', '34°', '34°', '33°', '33°', '32°', '32°', '33°', '33°', '34°', '34°', '34°', '34°'], 'Vengurla': ['33°', '31°', '31°', '32°', '32°', '31°', '31°', '31°', '31°', '31°', '31°', '33°', '31°'], 'Veraval': ['36°', '34°', '34°', '33°', '33°', '31°', '31°', '31°', '31°', '31°', '31°', '36°', '34°'], 'Vijayawada': ['37°', '36°', '36°', '35°', '35°', '30°', '30°', '30°', '30°', '30°', '30°', '37°', '36°'], 'Vishakhapatnam': ['32°', '32°', '32°', '32°', '32°', '29°', '29°', '27°', '27°', '27°', '27°', '32°', '32°']}\n"
     ]
    }
   ],
   "source": [
    "data = {}\n",
    "for state_link in state_links:\n",
    "    url = base_url + state_link\n",
    "    r = requests.get(base_url + state_link)\n",
    "    soup = BeautifulSoup(r.text)\n",
    "    rows = soup.find_all('span')\n",
    "    rows = [row for row in rows if 'tab-temp-high' in str(row)]\n",
    "    high_temps = []\n",
    "    for row in rows:\n",
    "        tds = row.find_all('td')\n",
    "        for i in range(1,12):\n",
    "            high_temps.append(rows[i].text)\n",
    "    del high_temps[13:]\n",
    "    s = soup.title.string\n",
    "    state = soup.title.string.split()[0]\n",
    "    data[state] = high_temps\n",
    "print(data)"
   ]
  },
  {
   "cell_type": "code",
   "execution_count": 19,
   "id": "b3893f92",
   "metadata": {},
   "outputs": [],
   "source": [
    "import csv\n",
    "\n",
    "with open('high_temps.csv','w') as f:\n",
    "    w = csv.writer(f)\n",
    "    w.writerows(data.items())"
   ]
  },
  {
   "cell_type": "code",
   "execution_count": null,
   "id": "168d4688",
   "metadata": {},
   "outputs": [],
   "source": []
  }
 ],
 "metadata": {
  "kernelspec": {
   "display_name": "Python 3 (ipykernel)",
   "language": "python",
   "name": "python3"
  },
  "language_info": {
   "codemirror_mode": {
    "name": "ipython",
    "version": 3
   },
   "file_extension": ".py",
   "mimetype": "text/x-python",
   "name": "python",
   "nbconvert_exporter": "python",
   "pygments_lexer": "ipython3",
   "version": "3.9.16"
  }
 },
 "nbformat": 4,
 "nbformat_minor": 5
}
